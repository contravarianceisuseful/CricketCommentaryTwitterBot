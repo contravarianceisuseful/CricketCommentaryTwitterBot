{
 "cells": [
  {
   "cell_type": "code",
   "execution_count": 14,
   "metadata": {},
   "outputs": [],
   "source": [
    "import tweepy\n",
    "\n",
    "consumer_key = \"tVjy---------\"\n",
    "consumer_secret = \"w49---------\"\n",
    "access_token = '14068193----------'\n",
    "oauth_token_secret = 'jD7yUd6Vb---------'\n",
    "\n",
    "auth = tweepy.OAuthHandler(consumer_key, consumer_secret)\n",
    "auth.set_access_token(access_token, oauth_token_secret)\n",
    "api = tweepy.API(auth)\n",
    "\n",
    "file = open(\"output.txt\", 'r')\n",
    "lines = file.readlines()\n",
    "file.close()\n",
    "length = len(lines)\n",
    "\n",
    "import datetime\n",
    "import time\n",
    "epoch = datetime.datetime.utcfromtimestamp(0)\n",
    "today = datetime.datetime.today()\n",
    "days = (today - epoch).days\n",
    "\n",
    "rot = 2\n",
    "\n",
    "for i in range(6):\n",
    "    message = \"Ball \" + str(i+1) + \" of \" + \"6:\\n\"\n",
    "    line_number = (days + i + rot)%length\n",
    "    message += lines[line_number]\n",
    "    if(i == (6-1)):\n",
    "        message += \"End of the over.\"\n",
    "    api.update_status(message)\n",
    "    time.sleep(0.2)"
   ]
  }
 ],
 "metadata": {
  "kernelspec": {
   "display_name": "Python 3",
   "language": "python",
   "name": "python3"
  },
  "language_info": {
   "codemirror_mode": {
    "name": "ipython",
    "version": 3
   },
   "file_extension": ".py",
   "mimetype": "text/x-python",
   "name": "python",
   "nbconvert_exporter": "python",
   "pygments_lexer": "ipython3",
   "version": "3.8.5"
  }
 },
 "nbformat": 4,
 "nbformat_minor": 4
}
