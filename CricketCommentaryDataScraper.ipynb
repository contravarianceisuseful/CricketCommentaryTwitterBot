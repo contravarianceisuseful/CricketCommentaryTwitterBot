{
 "cells": [
  {
   "cell_type": "code",
   "execution_count": null,
   "metadata": {},
   "outputs": [],
   "source": [
    "import json\n",
    "\n",
    "url = \"https://hs-consumer-api.espncricinfo.com/v1/pages/match/comments?\"\n",
    "\n",
    "def GetOverData(overNumber, matchId, InningsNumber, seriesId, commentType = \"ALL\"):\n",
    "    \n",
    "    import requests\n",
    "    \n",
    "    request_url = url + f'seriesId={seriesId}&matchId={matchId}&inningNumber={InningsNumber}&commentType={commentType}&fromInningOver={overNumber}'\n",
    "    \n",
    "    payload={}\n",
    "    headers = {}\n",
    "    #print(\"url: \", request_url)\n",
    "    response = requests.request(\"GET\", request_url, headers=headers, data=payload)\n",
    "\n",
    "    #print(request_url);\n",
    "    \n",
    "    return response.text"
   ]
  },
  {
   "cell_type": "code",
   "execution_count": null,
   "metadata": {},
   "outputs": [],
   "source": [
    "def CheckValidResponse(body):\n",
    "    j = json.loads(body)\n",
    "    #print(\"No error:\" ,not (\"error\" in j))\n",
    "    #print(j)\n",
    "    return not (\"error\" in j)\n",
    "        \n",
    "def CheckEmptyRequest(body):\n",
    "    j = json.loads(body)\n",
    "    #print (\"nextInningsNotNull\",j[\"nextInningOver\"])\n",
    "    return j[\"nextInningOver\"] == None\n",
    "\n",
    "def CheckResponse(body):\n",
    "    return CheckValidResponse(body) and not CheckEmptyRequest(body)\n",
    "\n",
    "\n",
    "def ExtractComments(body):\n",
    "    j = json.loads(body)\n",
    "    comments = []\n",
    "    if(not \"comments\" in j):\n",
    "        return comments\n",
    "    \n",
    "    for i,j2 in enumerate(j[\"comments\"]):\n",
    "        if(not \"commentTextItems\" in j2 or j2[\"commentTextItems\"] == None):\n",
    "            print(\"skip\")\n",
    "            continue\n",
    "        #print(j2)\n",
    "        comment = j2[\"commentTextItems\"][0][\"html\"]\n",
    "        comments.append(comment)\n",
    "    return comments"
   ]
  },
  {
   "cell_type": "code",
   "execution_count": null,
   "metadata": {},
   "outputs": [],
   "source": [
    "def GetAllDataInnings(matchId, InningsNumber, seriesId, commentType = \"ALL\"):\n",
    "    InningsComments = [\"start\"]\n",
    "    over = 3\n",
    "    \n",
    "    while(CheckResponse(responseText := GetOverData(over, matchId, InningsNumber, seriesId, commentType))):\n",
    "        print(\"over: \", over)\n",
    "        comments = ExtractComments(responseText)\n",
    "        InningsComments.extend(comments)\n",
    "        over += 2\n",
    "    return InningsComments\n",
    "       \n",
    "def GetMatchData(MatchId, seriesId, commentType = \"ALL\"):\n",
    "    Comments = []\n",
    "    for innings in [1,2,3,4]:\n",
    "        print(\"\\t\\t Innings\", innings)\n",
    "        Comments.extend(GetAllDataInnings(MatchId, innings, seriesId, commentType))\n",
    "                        \n",
    "    return Comments                    \n",
    "    \n",
    "def ExtractMatchIdsSeriesIds(lines):\n",
    "    Ids = []\n",
    "    for line in lines:\n",
    "        temp = line.split(\" \")\n",
    "        t = (temp[0],temp[1]) #tuple\n",
    "        Ids.append(t)\n",
    "    return Ids\n",
    "                        \n",
    "def GetAllCommentsFromDoc(filename):\n",
    "    file = open(filename)\n",
    "    lines = file.read().splitlines()\n",
    "    file.close()\n",
    "    Ids = ExtractMatchIdsSeriesIds(lines)\n",
    "    Comments = []\n",
    "    for matchId, SeriesId in Ids:\n",
    "        Comments.extend(GetMatchData(matchId, SeriesId))\n",
    "                        \n",
    "    return Comments\n",
    "\n",
    "def WriteCommentsToFile(comments):\n",
    "    file = open(\"AllComments.txt\",\"w\")\n",
    "    file.write(\"\\n\".join(comments))\n",
    "    file.close()"
   ]
  },
  {
   "cell_type": "code",
   "execution_count": null,
   "metadata": {},
   "outputs": [],
   "source": [
    "allComments = GetAllCommentsFromDoc(\"ashesMatchIds.txt\")\n",
    "WriteCommentsToFile(allComments)"
   ]
  }
 ],
 "metadata": {
  "kernelspec": {
   "display_name": "Python 3",
   "language": "python",
   "name": "python3"
  },
  "language_info": {
   "codemirror_mode": {
    "name": "ipython",
    "version": 3
   },
   "file_extension": ".py",
   "mimetype": "text/x-python",
   "name": "python",
   "nbconvert_exporter": "python",
   "pygments_lexer": "ipython3",
   "version": "3.8.5"
  }
 },
 "nbformat": 4,
 "nbformat_minor": 4
}
